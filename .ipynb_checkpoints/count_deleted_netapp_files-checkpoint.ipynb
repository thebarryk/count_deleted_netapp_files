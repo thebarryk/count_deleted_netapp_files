{
 "cells": [
  {
   "cell_type": "code",
   "execution_count": 100,
   "metadata": {},
   "outputs": [
    {
     "name": "stdout",
     "output_type": "stream",
     "text": [
      "02: 27 29\n",
      "03: 01 03 12 15 16 18 19 22 25 26\n"
     ]
    }
   ],
   "source": [
    "lines = open('x_log_delete_all.log').readlines()\n",
    "\n",
    "tab = {}\n",
    "for l in lines:\n",
    "    sf = l.split()[10].split('-')   \n",
    "    m = sf[1]; d = sf[2]\n",
    "    if m in tab:\n",
    "        if d in tab[m]:\n",
    "            tab[m][d] += 1\n",
    "        else:\n",
    "            tab[m][d] = 1\n",
    "    else:\n",
    "        tab[m] = { d : 1 }\n",
    "\n",
    "for m in sorted(tab):\n",
    "    days = ' '.join([d for d in sorted(tab[m].keys())])\n",
    "    print('%s: %s'% (m, days))\n"
   ]
  },
  {
   "cell_type": "code",
   "execution_count": null,
   "metadata": {},
   "outputs": [],
   "source": []
  }
 ],
 "metadata": {
  "kernelspec": {
   "display_name": "Python 3",
   "language": "python",
   "name": "python3"
  },
  "language_info": {
   "codemirror_mode": {
    "name": "ipython",
    "version": 3
   },
   "file_extension": ".py",
   "mimetype": "text/x-python",
   "name": "python",
   "nbconvert_exporter": "python",
   "pygments_lexer": "ipython3",
   "version": "3.8.5"
  }
 },
 "nbformat": 4,
 "nbformat_minor": 4
}
